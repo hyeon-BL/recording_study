{
 "cells": [
  {
   "cell_type": "code",
   "execution_count": 1,
   "metadata": {},
   "outputs": [],
   "source": [
    "from red_black_tree import RedBlackTreeMap"
   ]
  },
  {
   "cell_type": "code",
   "execution_count": 2,
   "metadata": {},
   "outputs": [],
   "source": [
    "T = RedBlackTreeMap()"
   ]
  },
  {
   "cell_type": "code",
   "execution_count": 3,
   "metadata": {},
   "outputs": [
    {
     "name": "stdout",
     "output_type": "stream",
     "text": [
      "insert 4\n",
      "insert 7\n",
      "insert 12\n",
      "reconstruct\n",
      "insert 15\n",
      "recolor\n",
      "insert 3\n",
      "insert 5\n",
      "insert 14\n",
      "reconstruct\n",
      "insert 18\n",
      "recolor\n",
      "insert 16\n",
      "reconstruct\n",
      "insert 17\n",
      "recolor\n",
      "reconstruct\n"
     ]
    }
   ],
   "source": [
    "T[4] = 1\n",
    "T[7] = 2\n",
    "T[12] = 3\n",
    "T[15] = 4\n",
    "T[3] = 5\n",
    "T[5] = 6\n",
    "T[14] = 7\n",
    "T[18] = 8\n",
    "T[16] = 8\n",
    "T[17] = 8"
   ]
  },
  {
   "cell_type": "code",
   "execution_count": 4,
   "metadata": {},
   "outputs": [
    {
     "name": "stdout",
     "output_type": "stream",
     "text": [
      "Deleting 3\n",
      "rebalance called at 4\n",
      "nChild = 1\n",
      "Deleting 12\n",
      "rebalance called at 7\n",
      "nChild = 1\n",
      "_fix_deficit 7, 4\n",
      "Case 1\n",
      "Deleting 17\n",
      "rebalance called at 18\n",
      "nChild = 0\n",
      "Deleting 18\n",
      "rebalance called at 16\n",
      "nChild = 1\n",
      "_fix_deficit 16, 15\n",
      "Case 2\n",
      "Deleting 15\n",
      "rebalance called at 16\n",
      "nChild = 0\n",
      "Deleting 16\n",
      "rebalance called at 14\n",
      "nChild = 1\n",
      "_fix_deficit 14, 5\n",
      "Case 3\n",
      "Case 2\n"
     ]
    }
   ],
   "source": [
    "del T[3]\n",
    "del T[12]\n",
    "del T[17]\n",
    "del T[18]\n",
    "del T[15]\n",
    "del T[16]"
   ]
  }
 ],
 "metadata": {
  "kernelspec": {
   "display_name": "Python py3-TF2.8",
   "language": "python",
   "name": "py3-tf2.0"
  },
  "language_info": {
   "codemirror_mode": {
    "name": "ipython",
    "version": 3
   },
   "file_extension": ".py",
   "mimetype": "text/x-python",
   "name": "python",
   "nbconvert_exporter": "python",
   "pygments_lexer": "ipython3",
   "version": "3.11.5"
  }
 },
 "nbformat": 4,
 "nbformat_minor": 2
}
