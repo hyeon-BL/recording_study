{
 "cells": [
  {
   "cell_type": "markdown",
   "metadata": {},
   "source": [
    "## Bucket - Sort"
   ]
  },
  {
   "cell_type": "code",
   "execution_count": 12,
   "metadata": {},
   "outputs": [
    {
     "name": "stdout",
     "output_type": "stream",
     "text": [
      "[0, 1, 1, 2, 3, 4]\n"
     ]
    }
   ],
   "source": [
    "def Bucket_sort(S):\n",
    "    n = len(S)\n",
    "    B = [[] for i in range(10)]\n",
    "    for i in range(n):              # key에 해당하는 버킷에 원소 추가 \n",
    "        B[S[i]].append(S[i])\n",
    "    S = []\n",
    "\n",
    "    for i in range(10):             # 버킷에 있는 원소들을 정렬\n",
    "        S.extend(B[i])\n",
    "    return S\n",
    "\n",
    "print(Bucket_sort([0, 3, 1, 2, 4, 1]))"
   ]
  },
  {
   "cell_type": "markdown",
   "metadata": {},
   "source": [
    "## Radix - Sort"
   ]
  },
  {
   "cell_type": "code",
   "execution_count": 30,
   "metadata": {},
   "outputs": [
    {
     "ename": "UnboundLocalError",
     "evalue": "cannot access local variable 'i' where it is not associated with a value",
     "output_type": "error",
     "traceback": [
      "\u001b[1;31m---------------------------------------------------------------------------\u001b[0m",
      "\u001b[1;31mUnboundLocalError\u001b[0m                         Traceback (most recent call last)",
      "Cell \u001b[1;32mIn[30], line 8\u001b[0m\n\u001b[0;32m      6\u001b[0m         S \u001b[38;5;241m=\u001b[39m Bucket_sort(arr)     \u001b[38;5;66;03m# 버킷 정렬\u001b[39;00m\n\u001b[0;32m      7\u001b[0m     \u001b[38;5;28;01mreturn\u001b[39;00m S\n\u001b[1;32m----> 8\u001b[0m \u001b[38;5;28mprint\u001b[39m(radix_sort([\u001b[38;5;241m1000\u001b[39m, \u001b[38;5;241m3321\u001b[39m, \u001b[38;5;241m1123\u001b[39m, \u001b[38;5;241m2529\u001b[39m, \u001b[38;5;241m4384\u001b[39m, \u001b[38;5;241m1765\u001b[39m]))\n",
      "Cell \u001b[1;32mIn[30], line 3\u001b[0m, in \u001b[0;36mradix_sort\u001b[1;34m(S)\u001b[0m\n\u001b[0;32m      1\u001b[0m \u001b[38;5;28;01mdef\u001b[39;00m \u001b[38;5;21mradix_sort\u001b[39m(S):\n\u001b[0;32m      2\u001b[0m     d \u001b[38;5;241m=\u001b[39m \u001b[38;5;28mlen\u001b[39m(\u001b[38;5;28mstr\u001b[39m(\u001b[38;5;28mmax\u001b[39m(S)))          \u001b[38;5;66;03m# 가장 큰 수의 자릿수 계산\u001b[39;00m\n\u001b[1;32m----> 3\u001b[0m     arr \u001b[38;5;241m=\u001b[39m [\u001b[38;5;28mint\u001b[39m(\u001b[38;5;28mstr\u001b[39m(S[i])[j]) \u001b[38;5;28;01mfor\u001b[39;00m j \u001b[38;5;129;01min\u001b[39;00m \u001b[38;5;28mrange\u001b[39m(\u001b[38;5;28mlen\u001b[39m(\u001b[38;5;28mstr\u001b[39m(S[i]))) \u001b[38;5;28;01mfor\u001b[39;00m i \u001b[38;5;129;01min\u001b[39;00m \u001b[38;5;28mrange\u001b[39m(\u001b[38;5;28mlen\u001b[39m(S))] \u001b[38;5;66;03m# 각 자릿수를 분리하여 arr에 저장\u001b[39;00m\n\u001b[0;32m      4\u001b[0m     \u001b[38;5;28mprint\u001b[39m(arr)\n\u001b[0;32m      5\u001b[0m     \u001b[38;5;28;01mfor\u001b[39;00m i \u001b[38;5;129;01min\u001b[39;00m \u001b[38;5;28mrange\u001b[39m(d):           \u001b[38;5;66;03m# 자릿수만큼 반복\u001b[39;00m\n",
      "\u001b[1;31mUnboundLocalError\u001b[0m: cannot access local variable 'i' where it is not associated with a value"
     ]
    }
   ],
   "source": [
    "def radix_sort(S):\n",
    "    d = len(str(max(S)))          # 가장 큰 수의 자릿수 계산\n",
    "    arr = [int(str(S[i])[j]) for j in range(len(str(S[i]))) for i in range(len(S))] # 각 자릿수를 분리하여 arr에 저장\n",
    "    print(arr)\n",
    "    for i in range(d):           # 자릿수만큼 반복\n",
    "        S = Bucket_sort(arr)     # 버킷 정렬\n",
    "    return S\n",
    "print(radix_sort([1000, 3321, 1123, 2529, 4384, 1765]))"
   ]
  },
  {
   "cell_type": "markdown",
   "metadata": {},
   "source": [
    "## Quick - select"
   ]
  },
  {
   "cell_type": "code",
   "execution_count": 18,
   "metadata": {},
   "outputs": [
    {
     "name": "stdout",
     "output_type": "stream",
     "text": [
      "[1, 1, 2, 3, 3, 4, 5, 5, 5, 6, 9]\n",
      "3\n"
     ]
    }
   ],
   "source": [
    "def quick_select(S, k):\n",
    "    if len(S) == 1:\n",
    "        return S[0]\n",
    "\n",
    "    pivot = S[0]\n",
    "    L = [x for x in S if x < pivot]\n",
    "    E = [x for x in S if x == pivot]\n",
    "    G = [x for x in S if x > pivot]\n",
    "\n",
    "    if len(L) >= k:\n",
    "        return quick_select(L, k)\n",
    "    elif len(L) + len(E) < k:\n",
    "        return quick_select(G, k - len(L) - len(E))\n",
    "    else:\n",
    "        return pivot\n",
    "print(sorted([3, 1, 4, 1, 5, 9, 2, 6, 5, 3, 5]))\n",
    "print(quick_select([3, 1, 4, 1, 5, 9, 2, 6, 5, 3, 5], 5)) # 5번째로 작은 원소 찾기"
   ]
  }
 ],
 "metadata": {
  "kernelspec": {
   "display_name": "Python py3-TF2.8",
   "language": "python",
   "name": "py3-tf2.0"
  },
  "language_info": {
   "codemirror_mode": {
    "name": "ipython",
    "version": 3
   },
   "file_extension": ".py",
   "mimetype": "text/x-python",
   "name": "python",
   "nbconvert_exporter": "python",
   "pygments_lexer": "ipython3",
   "version": "3.11.5"
  }
 },
 "nbformat": 4,
 "nbformat_minor": 2
}
