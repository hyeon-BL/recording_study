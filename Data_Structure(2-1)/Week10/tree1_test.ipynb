{
 "cells": [
  {
   "cell_type": "markdown",
   "metadata": {},
   "source": [
    "# binary_search_tree"
   ]
  },
  {
   "cell_type": "code",
   "execution_count": 1,
   "metadata": {},
   "outputs": [],
   "source": [
    "from binary_search_tree import TreeMap"
   ]
  },
  {
   "cell_type": "code",
   "execution_count": 2,
   "metadata": {},
   "outputs": [],
   "source": [
    "T = TreeMap()\n",
    "T['a'] = 123\n",
    "T['d'] = 890\n",
    "T['c'] = 567\n",
    "T['e'] = 101010\n",
    "T['b'] = 456"
   ]
  },
  {
   "cell_type": "code",
   "execution_count": 3,
   "metadata": {},
   "outputs": [
    {
     "name": "stdout",
     "output_type": "stream",
     "text": [
      "123\n",
      "456\n"
     ]
    }
   ],
   "source": [
    "print(T['a'])\n",
    "print(T['b'])"
   ]
  },
  {
   "cell_type": "code",
   "execution_count": 4,
   "metadata": {},
   "outputs": [
    {
     "name": "stdout",
     "output_type": "stream",
     "text": [
      "[('b', 456), ('c', 567), ('d', 890)]\n"
     ]
    }
   ],
   "source": [
    "print(list(T.find_range('b', 'e')))"
   ]
  },
  {
   "cell_type": "code",
   "execution_count": 5,
   "metadata": {},
   "outputs": [
    {
     "name": "stdout",
     "output_type": "stream",
     "text": [
      "d\n",
      "b\n"
     ]
    }
   ],
   "source": [
    "print(T.after(T.find_position('c')).key())\n",
    "print(T.before(T.find_position('c')).key())"
   ]
  },
  {
   "cell_type": "code",
   "execution_count": 6,
   "metadata": {},
   "outputs": [
    {
     "name": "stdout",
     "output_type": "stream",
     "text": [
      "[('a', 123), ('b', 456), ('c', 567), ('d', 890), ('e', 101010)]\n"
     ]
    }
   ],
   "source": [
    "print(list(T.items()))"
   ]
  },
  {
   "cell_type": "markdown",
   "metadata": {},
   "source": [
    "# AVL tree"
   ]
  },
  {
   "cell_type": "code",
   "execution_count": 7,
   "metadata": {},
   "outputs": [],
   "source": [
    "from avl_tree import AVLTreeMap"
   ]
  },
  {
   "cell_type": "code",
   "execution_count": 17,
   "metadata": {},
   "outputs": [],
   "source": [
    "T = AVLTreeMap()\n",
    "T['a'] = 17\n",
    "T['b'] = 32\n",
    "T['c'] = 44\n",
    "T['d'] = 48\n",
    "T['e'] = 50\n",
    "T['f'] = 62\n",
    "T['g'] = 78\n",
    "T['h'] = 88"
   ]
  },
  {
   "cell_type": "code",
   "execution_count": 34,
   "metadata": {},
   "outputs": [
    {
     "name": "stdout",
     "output_type": "stream",
     "text": [
      "e\n",
      "c\n",
      "d\n"
     ]
    }
   ],
   "source": [
    "print(T.after(T.find_position('d')).key())\n",
    "print(T.before(T.find_position('d')).key())"
   ]
  },
  {
   "cell_type": "code",
   "execution_count": 35,
   "metadata": {},
   "outputs": [
    {
     "name": "stdout",
     "output_type": "stream",
     "text": [
      "b\n"
     ]
    }
   ],
   "source": [
    "T._rebalance_insert(T.find_position('a'))\n",
    "print(T.after(T.find_position('a')).key())"
   ]
  },
  {
   "cell_type": "code",
   "execution_count": null,
   "metadata": {},
   "outputs": [],
   "source": []
  },
  {
   "cell_type": "markdown",
   "metadata": {},
   "source": [
    "# Splay tree"
   ]
  },
  {
   "cell_type": "code",
   "execution_count": 1,
   "metadata": {},
   "outputs": [],
   "source": [
    "from splay_tree import SplayTreeMap"
   ]
  },
  {
   "cell_type": "code",
   "execution_count": 2,
   "metadata": {},
   "outputs": [],
   "source": [
    "T = SplayTreeMap()\n",
    "T['A'] = 10\n",
    "T['T'] = 7\n",
    "T['J'] = 14\n",
    "T['Z'] = 20\n",
    "T['R'] = 35\n",
    "T['O'] = 21\n",
    "T['P'] = 37"
   ]
  },
  {
   "cell_type": "code",
   "execution_count": 3,
   "metadata": {},
   "outputs": [
    {
     "name": "stdout",
     "output_type": "stream",
     "text": [
      "A\n",
      "O\n"
     ]
    }
   ],
   "source": [
    "print(T.before(T.find_position('J')).key())\n",
    "print(T.after(T.find_position('J')).key())"
   ]
  },
  {
   "cell_type": "code",
   "execution_count": 4,
   "metadata": {},
   "outputs": [],
   "source": [
    "T._splay(T.find_position('J'))"
   ]
  },
  {
   "cell_type": "code",
   "execution_count": 5,
   "metadata": {},
   "outputs": [
    {
     "name": "stdout",
     "output_type": "stream",
     "text": [
      "A\n",
      "O\n"
     ]
    }
   ],
   "source": [
    "print(T.before(T.find_position('J')).key())\n",
    "print(T.after(T.find_position('J')).key())"
   ]
  },
  {
   "cell_type": "code",
   "execution_count": null,
   "metadata": {},
   "outputs": [],
   "source": []
  }
 ],
 "metadata": {
  "kernelspec": {
   "display_name": "Python py3-TF2.8",
   "language": "python",
   "name": "py3-tf2.0"
  },
  "language_info": {
   "codemirror_mode": {
    "name": "ipython",
    "version": 3
   },
   "file_extension": ".py",
   "mimetype": "text/x-python",
   "name": "python",
   "nbconvert_exporter": "python",
   "pygments_lexer": "ipython3",
   "version": "3.11.5"
  }
 },
 "nbformat": 4,
 "nbformat_minor": 2
}
