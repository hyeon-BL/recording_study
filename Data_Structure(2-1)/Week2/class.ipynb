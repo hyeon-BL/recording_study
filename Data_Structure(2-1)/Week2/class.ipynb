{
 "cells": [
  {
   "cell_type": "markdown",
   "metadata": {},
   "source": [
    "### 헷갈릴만한"
   ]
  },
  {
   "cell_type": "code",
   "execution_count": 2,
   "metadata": {},
   "outputs": [
    {
     "name": "stdout",
     "output_type": "stream",
     "text": [
      "0\n",
      "0.0\n"
     ]
    }
   ],
   "source": [
    "print(int())\n",
    "print(float())"
   ]
  },
  {
   "cell_type": "code",
   "execution_count": 3,
   "metadata": {},
   "outputs": [
    {
     "name": "stdout",
     "output_type": "stream",
     "text": [
      "<class 'dict'>\n",
      "<class 'set'>\n"
     ]
    }
   ],
   "source": [
    "print(type({}))\n",
    "print(type(set()))"
   ]
  },
  {
   "cell_type": "code",
   "execution_count": 24,
   "metadata": {},
   "outputs": [
    {
     "name": "stdout",
     "output_type": "stream",
     "text": [
      "10 10 140719425098824 140719425098824\n",
      "20 10 140719425099144 140719425098824\n"
     ]
    }
   ],
   "source": [
    "a=10\n",
    "b=a\n",
    "print(a, b, id(a), id(b))\n",
    "a+=10\n",
    "print(a, b, id(a), id(b))"
   ]
  },
  {
   "cell_type": "code",
   "execution_count": 35,
   "metadata": {},
   "outputs": [
    {
     "name": "stdout",
     "output_type": "stream",
     "text": [
      "[1, 2, 3] [1, 2, 3] 2853470960896 2853470960896\n",
      "[1, 2, 3, 10] [1, 2, 3, 10] 2853470960896 2853470960896\n"
     ]
    }
   ],
   "source": [
    "a=[1,2,3]\n",
    "b=a\n",
    "print(\"{} {} {} {}\".format(a, b, id(a), id(b)))\n",
    "b.append(10)\n",
    "print(\"{} {} {} {}\".format(a, b, id(a), id(b)))"
   ]
  },
  {
   "cell_type": "markdown",
   "metadata": {},
   "source": [
    "### Class 심화"
   ]
  },
  {
   "cell_type": "markdown",
   "metadata": {},
   "source": [
    "- overloading"
   ]
  },
  {
   "cell_type": "code",
   "execution_count": 11,
   "metadata": {},
   "outputs": [],
   "source": [
    "class RGB_Color:\n",
    "    def _constrain(self, value, min_v, max_v):\n",
    "        return max(min(max_v, value), min_v)\n",
    "    \n",
    "    def __init__(self, R, G, B):\n",
    "        self._R = self._constrain(R, 0, 255) # 0 <= R <= 255\n",
    "        self._G = self._constrain(G, 0, 255) # 0 <= G <= 255\n",
    "        self._B = self._constrain(B, 0, 255) # 0 <= B <= 255\n",
    "        \n",
    "    def __add__(self, other):   # Overloading \"+\" operator\n",
    "        return RGB_Color(self._constrain(self._R+other._R, 0, 255),\n",
    "                         self._constrain(self._G+other._G, 0, 255),\n",
    "                         self._constrain(self._B+other._B, 0, 255))\n",
    "        \n",
    "    def __sub__(self, other):   # Overloading \"-\" operator\n",
    "        return RGB_Color(self._constrain(self._R-other._R, 0, 255),\n",
    "                         self._constrain(self._G-other._G, 0, 255),\n",
    "                         self._constrain(self._B-other._B, 0, 255))    \n",
    "\n",
    "    def __repr__(self):  # Overloading a string representation of an object\n",
    "        return f'({self._R},{self._G},{self._B})'"
   ]
  },
  {
   "cell_type": "code",
   "execution_count": 12,
   "metadata": {},
   "outputs": [
    {
     "name": "stdout",
     "output_type": "stream",
     "text": [
      "(0,255,35) (100,200,50)\n",
      "(100,255,85)\n",
      "(0,55,0)\n"
     ]
    }
   ],
   "source": [
    "color1 = RGB_Color(-40, 500, 35)\n",
    "color2 = RGB_Color(100, 200, 50)\n",
    "print(color1, color2) # repr method is called\n",
    "print(color1 + color2)\n",
    "print(color1 - color2)"
   ]
  },
  {
   "cell_type": "code",
   "execution_count": 13,
   "metadata": {},
   "outputs": [],
   "source": [
    "class RGB_Color_C(RGB_Color):\n",
    "    def __init__(self, R, G, B):\n",
    "        super().__init__(R, G, B)\n",
    "        \n",
    "    def __str__(self):\n",
    "        return f'R: {self._R}, G: {self._G}, B: {self._B}'"
   ]
  },
  {
   "cell_type": "code",
   "execution_count": 14,
   "metadata": {},
   "outputs": [
    {
     "name": "stdout",
     "output_type": "stream",
     "text": [
      "R: 100, G: 200, B: 50\n"
     ]
    }
   ],
   "source": [
    "print(RGB_Color_C(100, 200, 50)) # str method is called"
   ]
  },
  {
   "cell_type": "markdown",
   "metadata": {},
   "source": [
    "- Iterator\n",
    ": 반복문 안에서 값을 어떻게 줄 지 결정, next() 메소드로 구현"
   ]
  },
  {
   "cell_type": "code",
   "execution_count": 23,
   "metadata": {},
   "outputs": [],
   "source": [
    "class SequenceIterator:\n",
    "    \"\"\"An iterator for any of Python's sequence types.\"\"\"\n",
    "    def __init__(self, sequence):\n",
    "        \"\"\"Create an iterator for the given sequence.\"\"\"\n",
    "        self.seq = sequence # keep a reference to the underlying data\n",
    "        self.k = -1 # will increment to 0 on first call to next\n",
    "    \n",
    "    def __next__ (self):\n",
    "        \"\"\"Return the next element, or else raise StopIteration error.\"\"\"\n",
    "        self.k += 1\n",
    "        if self.k < len(self.seq):\n",
    "            return(self.seq[self.k]) \n",
    "        else:\n",
    "            raise StopIteration()\n",
    "\n",
    "            # advance to next index\n",
    "    # return the data element\n",
    "    # there are no more elements\n",
    "    def __iter__ (self):\n",
    "        \"\"\"By convention, an iterator must return itself as an iterator.\"\"\" \n",
    "        return self\n",
    "    \n",
    "    def __getitem__(self, k):\n",
    "        return k"
   ]
  },
  {
   "cell_type": "code",
   "execution_count": 22,
   "metadata": {},
   "outputs": [
    {
     "name": "stdout",
     "output_type": "stream",
     "text": [
      "1\n",
      "-1\n"
     ]
    }
   ],
   "source": [
    "a = SequenceIterator([1, 2, 3, 4, 5])\n",
    "print(next(a))\n",
    "print(a[-1]) # getitem method is called"
   ]
  },
  {
   "cell_type": "code",
   "execution_count": null,
   "metadata": {},
   "outputs": [],
   "source": []
  }
 ],
 "metadata": {
  "kernelspec": {
   "display_name": "Python py3-TF2.8",
   "language": "python",
   "name": "py3-tf2.0"
  },
  "language_info": {
   "codemirror_mode": {
    "name": "ipython",
    "version": 3
   },
   "file_extension": ".py",
   "mimetype": "text/x-python",
   "name": "python",
   "nbconvert_exporter": "python",
   "pygments_lexer": "ipython3",
   "version": "3.11.5"
  }
 },
 "nbformat": 4,
 "nbformat_minor": 2
}
