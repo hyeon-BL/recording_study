{
 "cells": [
  {
   "cell_type": "code",
   "execution_count": 10,
   "metadata": {},
   "outputs": [],
   "source": [
    "def inplace_quick_sort(S, a, b):\n",
    "    if a >= b:\n",
    "        return\n",
    "    pivot = S[b]\n",
    "    left = a\n",
    "    right = b - 1\n",
    "    while left <= right:\n",
    "        while left <= right and S[left] < pivot:\n",
    "            left += 1\n",
    "            print(left, right, S, sep=': ')\n",
    "        while left <= right and S[right] > pivot:\n",
    "            right -= 1\n",
    "            print(left, right, S, sep=': ')\n",
    "        if left <= right:\n",
    "            S[left], S[right] = S[right], S[left]\n",
    "            left, right = left + 1, right - 1\n",
    "    S[left], S[b] = S[b], S[left]\n",
    "    print('f', left, right, S, sep=': ')\n",
    "    inplace_quick_sort(S, a, left - 1)\n",
    "    inplace_quick_sort(S, left + 1, b)"
   ]
  },
  {
   "cell_type": "code",
   "execution_count": 17,
   "metadata": {},
   "outputs": [
    {
     "name": "stdout",
     "output_type": "stream",
     "text": [
      "0: 4: [3, 5, 8, 4, 1, 9, 1]\n",
      "1: 2: [1, 5, 8, 4, 3, 9, 1]\n",
      "1: 1: [1, 5, 8, 4, 3, 9, 1]\n",
      "1: 0: [1, 5, 8, 4, 3, 9, 1]\n",
      "f: 1: 0: [1, 1, 8, 4, 3, 9, 5]\n",
      "2: 4: [1, 1, 8, 4, 3, 9, 5]\n",
      "4: 3: [1, 1, 3, 4, 8, 9, 5]\n",
      "f: 4: 3: [1, 1, 3, 4, 5, 9, 8]\n",
      "3: 2: [1, 1, 3, 4, 5, 9, 8]\n",
      "f: 3: 2: [1, 1, 3, 4, 5, 9, 8]\n",
      "5: 4: [1, 1, 3, 4, 5, 9, 8]\n",
      "f: 5: 4: [1, 1, 3, 4, 5, 8, 9]\n"
     ]
    }
   ],
   "source": [
    "inplace_quick_sort([3, 5, 8, 4, 1, 9, 1], 0, 6)"
   ]
  },
  {
   "cell_type": "code",
   "execution_count": null,
   "metadata": {},
   "outputs": [],
   "source": []
  }
 ],
 "metadata": {
  "kernelspec": {
   "display_name": "Python py3-TF2.8",
   "language": "python",
   "name": "py3-tf2.0"
  },
  "language_info": {
   "codemirror_mode": {
    "name": "ipython",
    "version": 3
   },
   "file_extension": ".py",
   "mimetype": "text/x-python",
   "name": "python",
   "nbconvert_exporter": "python",
   "pygments_lexer": "ipython3",
   "version": "3.11.5"
  }
 },
 "nbformat": 4,
 "nbformat_minor": 2
}
