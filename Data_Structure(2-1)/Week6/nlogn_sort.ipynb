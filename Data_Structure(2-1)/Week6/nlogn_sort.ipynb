{
 "cells": [
  {
   "cell_type": "markdown",
   "metadata": {},
   "source": [
    "## Merge sort"
   ]
  },
  {
   "cell_type": "code",
   "execution_count": 15,
   "metadata": {},
   "outputs": [],
   "source": [
    "def merge(S1, S2, S):\n",
    "    print('처음:', S1, S2, S)\n",
    "    i = j = 0\n",
    "    while i + j < len(S):\n",
    "        if j == len(S2) or (i < len(S1) and S1[i] < S2[j]):\n",
    "            S[i+j] = S1[i]\n",
    "            print(S)\n",
    "            i += 1\n",
    "        else:\n",
    "            S[i+j] = S2[j]\n",
    "            print(S)\n",
    "            j += 1\n",
    "\n",
    "def merge_sort(S):\n",
    "    n = len(S)\n",
    "    if n < 2:\n",
    "        return\n",
    "    mid = n // 2\n",
    "    S1 = S[0:mid]\n",
    "    S2 = S[mid:n]\n",
    "    merge_sort(S1)\n",
    "    merge_sort(S2)\n",
    "    merge(S1, S2, S)\n",
    "    print()"
   ]
  },
  {
   "cell_type": "code",
   "execution_count": 16,
   "metadata": {},
   "outputs": [
    {
     "name": "stdout",
     "output_type": "stream",
     "text": [
      "처음: [7] [2] [7, 2]\n",
      "[2, 2]\n",
      "[2, 7]\n",
      "\n",
      "처음: [9] [4] [9, 4]\n",
      "[4, 4]\n",
      "[4, 9]\n",
      "\n",
      "처음: [2, 7] [4, 9] [7, 2, 9, 4]\n",
      "[2, 2, 9, 4]\n",
      "[2, 4, 9, 4]\n",
      "[2, 4, 7, 4]\n",
      "[2, 4, 7, 9]\n",
      "\n"
     ]
    }
   ],
   "source": [
    "lst = [7,2,9,4]\n",
    "merge_sort(lst) # S1, S2는 정렬된 상태이지만 S는 정렬되지 않은 상태(새로운 메모리에 저장되어 있음)"
   ]
  },
  {
   "cell_type": "markdown",
   "metadata": {},
   "source": [
    "## Quick sort"
   ]
  },
  {
   "cell_type": "code",
   "execution_count": 18,
   "metadata": {},
   "outputs": [],
   "source": [
    "def inplace_quick_sort(S, a, b):\n",
    "    if a >= b:\n",
    "        return\n",
    "    pivot = S[b]\n",
    "    left = a\n",
    "    right = b - 1\n",
    "    while left <= right:\n",
    "        while left <= right and S[left] < pivot:\n",
    "            left += 1\n",
    "            print(left, right, S, sep=': ')\n",
    "        while left <= right and S[right] > pivot:\n",
    "            right -= 1\n",
    "            print(left, right, S, sep=': ')\n",
    "        if left <= right:\n",
    "            S[left], S[right] = S[right], S[left]\n",
    "            left, right = left + 1, right - 1\n",
    "    S[left], S[b] = S[b], S[left]\n",
    "    print('f', left, right, S, sep=': ')\n",
    "    inplace_quick_sort(S, a, left - 1)\n",
    "    inplace_quick_sort(S, left + 1, b)"
   ]
  },
  {
   "cell_type": "code",
   "execution_count": 19,
   "metadata": {},
   "outputs": [
    {
     "name": "stdout",
     "output_type": "stream",
     "text": [
      "1: 5: [3, 5, 8, 4, 1, 9, 8]\n",
      "2: 5: [3, 5, 8, 4, 1, 9, 8]\n",
      "2: 4: [3, 5, 8, 4, 1, 9, 8]\n",
      "4: 3: [3, 5, 1, 4, 8, 9, 8]\n",
      "f: 4: 3: [3, 5, 1, 4, 8, 9, 8]\n",
      "1: 2: [3, 5, 1, 4, 8, 9, 8]\n",
      "f: 2: 1: [3, 1, 4, 5, 8, 9, 8]\n",
      "0: -1: [3, 1, 4, 5, 8, 9, 8]\n",
      "f: 0: -1: [1, 3, 4, 5, 8, 9, 8]\n",
      "5: 4: [1, 3, 4, 5, 8, 9, 8]\n",
      "f: 5: 4: [1, 3, 4, 5, 8, 8, 9]\n"
     ]
    }
   ],
   "source": [
    "inplace_quick_sort([3, 5, 8, 4, 1, 9, 8], 0, 6)"
   ]
  },
  {
   "cell_type": "code",
   "execution_count": null,
   "metadata": {},
   "outputs": [],
   "source": []
  }
 ],
 "metadata": {
  "kernelspec": {
   "display_name": "Python py3-TF2.8",
   "language": "python",
   "name": "py3-tf2.0"
  },
  "language_info": {
   "codemirror_mode": {
    "name": "ipython",
    "version": 3
   },
   "file_extension": ".py",
   "mimetype": "text/x-python",
   "name": "python",
   "nbconvert_exporter": "python",
   "pygments_lexer": "ipython3",
   "version": "3.11.5"
  }
 },
 "nbformat": 4,
 "nbformat_minor": 2
}
