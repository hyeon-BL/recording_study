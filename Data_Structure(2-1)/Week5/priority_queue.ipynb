{
 "cells": [
  {
   "cell_type": "code",
   "execution_count": 3,
   "metadata": {},
   "outputs": [],
   "source": [
    "import sys\n",
    "sys.path.append('Week5-2_Notebooks')\n",
    "from priority_queue_base import PriorityQueueBase   # PriorityQueueBase defines Priority Queue ADT (abstract data type)\n",
    "from positional_list import PositionalList          # PostionalList is an implementation of a doubly linked list\n",
    "from exceptions import Empty"
   ]
  },
  {
   "cell_type": "markdown",
   "metadata": {},
   "source": [
    "## Unsorted priority queue"
   ]
  },
  {
   "cell_type": "code",
   "execution_count": 4,
   "metadata": {},
   "outputs": [],
   "source": [
    "class UnsortedPriorityQueue(PriorityQueueBase): # base class defines _Item\n",
    "    \"\"\"A min-oriented priority queue implemented with an unsorted list.\"\"\"\n",
    "\n",
    "    #----------------------------- nonpublic behavior -----------------------------\n",
    "    def _find_min(self):\n",
    "        \"\"\"Return Position of item with minimum key.\"\"\"\n",
    "        if self.is_empty():                             # is_empty inherited from base class\n",
    "            raise Empty('Priority queue is empty')\n",
    "        small = self._data.first()\n",
    "        walk = self._data.after(small)\n",
    "        while walk is not None:\n",
    "            if walk.element() < small.element():\n",
    "                small = walk\n",
    "            walk = self._data.after(walk)\n",
    "        return small\n",
    "\n",
    "    #------------------------------ public behaviors ------------------------------\n",
    "    def __init__(self):\n",
    "        \"\"\"Create a new empty Priority Queue.\"\"\"\n",
    "        self._data = PositionalList()\n",
    "\n",
    "    def __len__(self):\n",
    "        \"\"\"Return the number of items in the priority queue.\"\"\"\n",
    "        return len(self._data)\n",
    "\n",
    "    def add(self, key, value):\n",
    "        \"\"\"Add a key-value pair.\"\"\"\n",
    "        self._data.add_last(self._Item(key, value))\n",
    "\n",
    "    def min(self):\n",
    "        \"\"\"Return but do not remove (k,v) tuple with minimum key.\n",
    "\n",
    "        Raise Empty exception if empty.\n",
    "        \"\"\"\n",
    "        p = self._find_min()\n",
    "        item = p.element()\n",
    "        return (item._key, item._value)\n",
    "\n",
    "    def remove_min(self):\n",
    "        \"\"\"Remove and return (k,v) tuple with minimum key.\n",
    "\n",
    "        Raise Empty exception if empty.\n",
    "        \"\"\"\n",
    "        p = self._find_min()\n",
    "        item = self._data.delete(p)\n",
    "        return (item._key, item._value)\n",
    "    \n",
    "    # Custom function to display the entire elements\n",
    "    def list_elems(self):\n",
    "        listed_elem = []\n",
    "        if self.is_empty():                             # is_empty inherited from base class\n",
    "            return listed_elem\n",
    "        walk = self._data.first()\n",
    "        while walk is not None:\n",
    "            item = walk.element()\n",
    "            listed_elem.append((item._key, item._value))\n",
    "            walk = self._data.after(walk)\n",
    "        return  listed_elem"
   ]
  },
  {
   "cell_type": "code",
   "execution_count": 5,
   "metadata": {},
   "outputs": [
    {
     "name": "stdout",
     "output_type": "stream",
     "text": [
      "95 X-ray\n",
      "55 Charlie\n",
      "35 Oscar\n",
      "91 Tango\n",
      "37 Uniform\n"
     ]
    }
   ],
   "source": [
    "# For testing purpose, assign a random names\n",
    "import random\n",
    "names = [\"Alfa\", \"Bravo\", \"Charlie\", \"Delta\", \"Echo\", \"Foxtrot\", \"Golf\", \"Hotel\", \"India\", \"Juliett\", \"Kilo\", \"Lima\", \"Mike\", \"November\", \"Oscar\", \"Papa\", \"Quebec\", \"Romeo\", \"Sierra\", \"Tango\", \"Uniform\", \"Victor\", \"Whiskey\", \"X-ray\", \"Yankee\", \"Zulu\"]\n",
    "\n",
    "Q = UnsortedPriorityQueue()\n",
    "\n",
    "for name in random.sample(names, 5):\n",
    "    key = random.randint(0, 100)\n",
    "    print(key, name)\n",
    "    Q.add(key, name)"
   ]
  },
  {
   "cell_type": "code",
   "execution_count": 6,
   "metadata": {},
   "outputs": [
    {
     "data": {
      "text/plain": [
       "[(95, 'X-ray'), (55, 'Charlie'), (35, 'Oscar'), (91, 'Tango'), (37, 'Uniform')]"
      ]
     },
     "execution_count": 6,
     "metadata": {},
     "output_type": "execute_result"
    }
   ],
   "source": [
    "Q.list_elems()"
   ]
  },
  {
   "cell_type": "code",
   "execution_count": 7,
   "metadata": {},
   "outputs": [
    {
     "name": "stdout",
     "output_type": "stream",
     "text": [
      "(35, 'Oscar')\n",
      "[(95, 'X-ray'), (55, 'Charlie'), (91, 'Tango'), (37, 'Uniform')]\n",
      "(37, 'Uniform')\n",
      "[(95, 'X-ray'), (55, 'Charlie'), (91, 'Tango')]\n",
      "(55, 'Charlie')\n",
      "[(95, 'X-ray'), (91, 'Tango')]\n",
      "(91, 'Tango')\n",
      "[(95, 'X-ray')]\n",
      "(95, 'X-ray')\n"
     ]
    }
   ],
   "source": [
    "print(Q.remove_min())\n",
    "print(Q.list_elems())\n",
    "\n",
    "print(Q.remove_min())\n",
    "print(Q.list_elems())\n",
    "\n",
    "print(Q.remove_min())\n",
    "print(Q.list_elems())\n",
    "\n",
    "print(Q.remove_min())\n",
    "print(Q.list_elems())\n",
    "\n",
    "print(Q.remove_min())"
   ]
  },
  {
   "cell_type": "markdown",
   "metadata": {},
   "source": [
    "## Sorted priority queue"
   ]
  },
  {
   "cell_type": "code",
   "execution_count": 8,
   "metadata": {},
   "outputs": [],
   "source": [
    "class SortedPriorityQueue(PriorityQueueBase): # base class defines _Item\n",
    "    \"\"\"A min-oriented priority queue implemented with a sorted list.\"\"\"\n",
    "\n",
    "    #------------------------------ public behaviors ------------------------------\n",
    "    def __init__(self):\n",
    "        \"\"\"Create a new empty Priority Queue.\"\"\"\n",
    "        self._data = PositionalList()\n",
    "\n",
    "    def __len__(self):\n",
    "        \"\"\"Return the number of items in the priority queue.\"\"\"\n",
    "        return len(self._data)\n",
    "\n",
    "    def add(self, key, value):\n",
    "        \"\"\"Add a key-value pair.\"\"\"\n",
    "        newest = self._Item(key, value)                         # make new item instance\n",
    "        walk = self._data.last()             # walk backward looking for smaller key\n",
    "        while walk is not None and newest < walk.element():\n",
    "            walk = self._data.before(walk)\n",
    "        if walk is None:\n",
    "            self._data.add_first(newest)                            # new key is smallest\n",
    "        else:\n",
    "            self._data.add_after(walk, newest)                # newest goes after walk\n",
    "\n",
    "    def min(self):\n",
    "        \"\"\"Return but do not remove (k,v) tuple with minimum key.\n",
    "\n",
    "        Raise Empty exception if empty.\n",
    "        \"\"\"\n",
    "        if self.is_empty():\n",
    "            raise Empty('Priority queue is empty.')\n",
    "        p = self._data.first()\n",
    "        item = p.element()\n",
    "        return (item._key, item._value)\n",
    "\n",
    "    def remove_min(self):\n",
    "        \"\"\"Remove and return (k,v) tuple with minimum key.\n",
    "\n",
    "        Raise Empty exception if empty.\n",
    "        \"\"\"\n",
    "        if self.is_empty():\n",
    "            raise Empty('Priority queue is empty.')\n",
    "        item = self._data.delete(self._data.first())\n",
    "        return (item._key, item._value)\n",
    "    \n",
    "    # Custom function to display the entire elements\n",
    "    def list_elems(self):\n",
    "        listed_elem = []\n",
    "        if self.is_empty():                             # is_empty inherited from base class\n",
    "            return listed_elem\n",
    "        walk = self._data.first()\n",
    "        while walk is not None:\n",
    "            item = walk.element()\n",
    "            listed_elem.append((item._key, item._value))\n",
    "            walk = self._data.after(walk)\n",
    "        return  listed_elem\n"
   ]
  },
  {
   "cell_type": "code",
   "execution_count": 13,
   "metadata": {},
   "outputs": [
    {
     "name": "stdout",
     "output_type": "stream",
     "text": [
      "76 Uniform\n",
      "77 Lima\n",
      "41 Juliett\n",
      "11 November\n",
      "85 Charlie\n"
     ]
    }
   ],
   "source": [
    "Q2 = SortedPriorityQueue()\n",
    "\n",
    "for name in random.sample(names, 5):\n",
    "    key = random.randint(0, 100)\n",
    "    print(key, name)\n",
    "    Q2.add(key, name)"
   ]
  },
  {
   "cell_type": "code",
   "execution_count": 14,
   "metadata": {},
   "outputs": [
    {
     "data": {
      "text/plain": [
       "[(11, 'November'),\n",
       " (41, 'Juliett'),\n",
       " (76, 'Uniform'),\n",
       " (77, 'Lima'),\n",
       " (85, 'Charlie')]"
      ]
     },
     "execution_count": 14,
     "metadata": {},
     "output_type": "execute_result"
    }
   ],
   "source": [
    "Q2.list_elems()"
   ]
  },
  {
   "cell_type": "code",
   "execution_count": 15,
   "metadata": {},
   "outputs": [
    {
     "name": "stdout",
     "output_type": "stream",
     "text": [
      "(11, 'November')\n",
      "(41, 'Juliett')\n",
      "(76, 'Uniform')\n",
      "(77, 'Lima')\n",
      "(85, 'Charlie')\n"
     ]
    },
    {
     "data": {
      "text/plain": [
       "[]"
      ]
     },
     "execution_count": 15,
     "metadata": {},
     "output_type": "execute_result"
    }
   ],
   "source": [
    "print(Q2.remove_min())\n",
    "print(Q2.remove_min())\n",
    "print(Q2.remove_min())\n",
    "print(Q2.remove_min())\n",
    "print(Q2.remove_min())\n",
    "Q2.list_elems()"
   ]
  },
  {
   "cell_type": "markdown",
   "metadata": {},
   "source": [
    "## Heap based priority queue"
   ]
  },
  {
   "cell_type": "code",
   "execution_count": 16,
   "metadata": {},
   "outputs": [],
   "source": [
    "from priority_queue_base import PriorityQueueBase\n",
    "from exceptions import Empty\n",
    "\n",
    "class HeapPriorityQueue(PriorityQueueBase): # base class defines _Item\n",
    "    \"\"\"A min-oriented priority queue implemented with a binary heap.\"\"\"\n",
    "\n",
    "    #------------------------------ nonpublic behaviors ------------------------------\n",
    "    def _parent(self, j):\n",
    "        return (j-1) // 2\n",
    "\n",
    "    def _left(self, j):\n",
    "        return 2*j + 1\n",
    "    \n",
    "    def _right(self, j):\n",
    "        return 2*j + 2\n",
    "\n",
    "    def _has_left(self, j):\n",
    "        return self._left(j) < len(self._data)         # index beyond end of list?\n",
    "    \n",
    "    def _has_right(self, j):\n",
    "        return self._right(j) < len(self._data)        # index beyond end of list?\n",
    "    \n",
    "    def _swap(self, i, j):\n",
    "        \"\"\"Swap the elements at indices i and j of array.\"\"\"\n",
    "        self._data[i], self._data[j] = self._data[j], self._data[i]\n",
    "\n",
    "    def _upheap(self, j):\n",
    "        parent = self._parent(j)\n",
    "        if j > 0 and self._data[j] < self._data[parent]:\n",
    "            self._swap(j, parent)\n",
    "            self._upheap(parent)                         # recur at position of parent\n",
    "    \n",
    "    def _downheap(self, j):\n",
    "        if self._has_left(j):\n",
    "            left = self._left(j)\n",
    "            small_child = left                             # although right may be smaller\n",
    "            if self._has_right(j):\n",
    "                right = self._right(j)\n",
    "                if self._data[right] < self._data[left]:\n",
    "                    small_child = right\n",
    "            if self._data[small_child] < self._data[j]:\n",
    "                self._swap(j, small_child)\n",
    "                self._downheap(small_child)        # recur at position of small child\n",
    "\n",
    "    #------------------------------ public behaviors ------------------------------\n",
    "    def __init__(self):\n",
    "        \"\"\"Create a new empty Priority Queue.\"\"\"\n",
    "        self._data = []\n",
    "\n",
    "    def __len__(self):\n",
    "        \"\"\"Return the number of items in the priority queue.\"\"\"\n",
    "        return len(self._data)\n",
    "\n",
    "    def add(self, key, value):\n",
    "        \"\"\"Add a key-value pair to the priority queue.\"\"\"\n",
    "        self._data.append(self._Item(key, value))\n",
    "        self._upheap(len(self._data) - 1)                        # upheap newly added position\n",
    "    \n",
    "    def min(self):\n",
    "        \"\"\"Return but do not remove (k,v) tuple with minimum key.\n",
    "\n",
    "        Raise Empty exception if empty.\n",
    "        \"\"\"\n",
    "        if self.is_empty():\n",
    "            raise Empty('Priority queue is empty.')\n",
    "        item = self._data[0]\n",
    "        return (item._key, item._value)\n",
    "\n",
    "    def remove_min(self):\n",
    "        \"\"\"Remove and return (k,v) tuple with minimum key.\n",
    "\n",
    "        Raise Empty exception if empty.\n",
    "        \"\"\"\n",
    "        if self.is_empty():\n",
    "            raise Empty('Priority queue is empty.')\n",
    "        self._swap(0, len(self._data) - 1)                     # put minimum item at the end\n",
    "        item = self._data.pop()                                            # and remove it from the list;\n",
    "        self._downheap(0)                                                        # then fix new root\n",
    "        return (item._key, item._value)\n",
    "\n",
    "    def display_heap(self, j=0): # j: position\n",
    "        if len(self) == 0:\n",
    "            return\n",
    "        \n",
    "        height = int((j+1)/2)\n",
    "        print('+-'*height+str(self._data[j]))\n",
    "    \n",
    "        if self._has_left(j):\n",
    "            left = self._left(j)\n",
    "            self.display_heap(left)\n",
    "        if self._has_right(j):\n",
    "            right = self._right(j)\n",
    "            self.display_heap(right)"
   ]
  },
  {
   "cell_type": "code",
   "execution_count": 19,
   "metadata": {},
   "outputs": [
    {
     "name": "stdout",
     "output_type": "stream",
     "text": [
      "Inserted: 93 Zulu\n",
      "(93,Zulu)\n",
      "\n",
      "Inserted: 54 Juliett\n",
      "(54,Juliett)\n",
      "+-(93,Zulu)\n",
      "\n",
      "Inserted: 36 Lima\n",
      "(36,Lima)\n",
      "+-(93,Zulu)\n",
      "+-(54,Juliett)\n",
      "\n",
      "Inserted: 78 Tango\n",
      "(36,Lima)\n",
      "+-(78,Tango)\n",
      "+-+-(93,Zulu)\n",
      "+-(54,Juliett)\n",
      "\n",
      "Inserted: 52 Hotel\n",
      "(36,Lima)\n",
      "+-(52,Hotel)\n",
      "+-+-(93,Zulu)\n",
      "+-+-(78,Tango)\n",
      "+-(54,Juliett)\n",
      "\n"
     ]
    }
   ],
   "source": [
    "Qh = HeapPriorityQueue()\n",
    "\n",
    "for name in random.sample(names, 5):\n",
    "    key = random.randint(0, 100)\n",
    "    print(\"Inserted:\", key, name)\n",
    "    Qh.add(key, name)\n",
    "    Qh.display_heap()\n",
    "    print()"
   ]
  },
  {
   "cell_type": "code",
   "execution_count": 20,
   "metadata": {},
   "outputs": [
    {
     "name": "stdout",
     "output_type": "stream",
     "text": [
      "Removed: (36, 'Lima')\n",
      "(52,Hotel)\n",
      "+-(78,Tango)\n",
      "+-+-(93,Zulu)\n",
      "+-(54,Juliett)\n",
      "\n",
      "Removed: (52, 'Hotel')\n",
      "(54,Juliett)\n",
      "+-(78,Tango)\n",
      "+-(93,Zulu)\n",
      "\n",
      "Removed: (54, 'Juliett')\n",
      "(78,Tango)\n",
      "+-(93,Zulu)\n",
      "\n",
      "Removed: (78, 'Tango')\n",
      "(93,Zulu)\n",
      "\n",
      "Removed: (93, 'Zulu')\n",
      "\n"
     ]
    }
   ],
   "source": [
    "for i in range(5):\n",
    "    print(\"Removed:\", Qh.remove_min())\n",
    "    Qh.display_heap()\n",
    "    print()"
   ]
  },
  {
   "cell_type": "code",
   "execution_count": null,
   "metadata": {},
   "outputs": [],
   "source": []
  }
 ],
 "metadata": {
  "kernelspec": {
   "display_name": "Python py3-TF2.8",
   "language": "python",
   "name": "py3-tf2.0"
  },
  "language_info": {
   "codemirror_mode": {
    "name": "ipython",
    "version": 3
   },
   "file_extension": ".py",
   "mimetype": "text/x-python",
   "name": "python",
   "nbconvert_exporter": "python",
   "pygments_lexer": "ipython3",
   "version": "3.11.5"
  }
 },
 "nbformat": 4,
 "nbformat_minor": 2
}
