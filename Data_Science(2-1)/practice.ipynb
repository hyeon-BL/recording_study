{
 "cells": [
  {
   "cell_type": "markdown",
   "metadata": {},
   "source": [
    "### 연습문제"
   ]
  },
  {
   "cell_type": "code",
   "execution_count": 1,
   "metadata": {},
   "outputs": [],
   "source": [
    "# 두 정수 A와 B를 입력받은 다음, A+B를 출력하는 프로그램을 작성하시오.\n",
    "A, B = map(int, input().split())\n",
    "if A > 0 and B<10:\n",
    "    print(A+B)"
   ]
  },
  {
   "cell_type": "code",
   "execution_count": 2,
   "metadata": {},
   "outputs": [
    {
     "name": "stdout",
     "output_type": "stream",
     "text": [
      "3\n"
     ]
    }
   ],
   "source": [
    "# n이 주어졌을 때, n번째 피보나치 수를 구하는 프로그램을 작성하시오.\n",
    "def fib(n):\n",
    "    if n == 1 or n == 2:\n",
    "        return 1\n",
    "    return  fib(n-1) + fib(n-2)\n",
    "\n",
    "n = int(input())\n",
    "if n<=45:\n",
    "    print(fib(n))"
   ]
  },
  {
   "cell_type": "markdown",
   "metadata": {},
   "source": [
    "### LAB2"
   ]
  },
  {
   "cell_type": "code",
   "execution_count": 3,
   "metadata": {},
   "outputs": [
    {
     "name": "stdout",
     "output_type": "stream",
     "text": [
      "000001010011100\n"
     ]
    }
   ],
   "source": [
    "# Encoding\n",
    "st=input()\n",
    "lst = []\n",
    "for s in st:\n",
    "    if s ==\"a\":\n",
    "        lst.append('000')\n",
    "    elif s ==\"b\":\n",
    "        lst.append('001')\n",
    "    elif s ==\"c\":\n",
    "        lst.append('010')\n",
    "    elif s ==\"d\":\n",
    "        lst.append('011')\n",
    "    elif s ==\"e\":\n",
    "        lst.append('100')\n",
    "print(''.join(lst))"
   ]
  },
  {
   "cell_type": "code",
   "execution_count": 1,
   "metadata": {},
   "outputs": [
    {
     "name": "stdout",
     "output_type": "stream",
     "text": [
      "abcde\n"
     ]
    }
   ],
   "source": [
    "# Decoding\n",
    "st=input()\n",
    "lst = [st[(a-1)*3:a*3] for a in range(1, (len(st)//3)+1)]\n",
    "nlst = []\n",
    "for s in lst:\n",
    "    if s ==\"000\":\n",
    "        nlst.append('a')\n",
    "    elif s ==\"001\":\n",
    "        nlst.append('b')\n",
    "    elif s ==\"010\":\n",
    "        nlst.append('c')\n",
    "    elif s ==\"011\":\n",
    "        nlst.append('d')\n",
    "    elif s ==\"100\":\n",
    "        nlst.append('e')\n",
    "print(''.join(nlst))"
   ]
  },
  {
   "cell_type": "code",
   "execution_count": 2,
   "metadata": {},
   "outputs": [
    {
     "name": "stdout",
     "output_type": "stream",
     "text": [
      "3\n"
     ]
    }
   ],
   "source": [
    "# \"continuously increasing\" if each element in the subsequence is larger than the previous one.\n",
    "inp = list(map(int, input().split()))\n",
    "prev = inp[0]\n",
    "inc = 1\n",
    "count = 0\n",
    "for i in range(1, len(inp)):\n",
    "    if prev < inp[i]:\n",
    "        inc += 1\n",
    "    else:\n",
    "        count = max(count, inc)\n",
    "        inc = 1\n",
    "    prev = inp[i]\n",
    "count = max(count, inc)\n",
    "print(count)\n",
    "# 입력값 : 1 3 5 5 7"
   ]
  },
  {
   "cell_type": "code",
   "execution_count": 3,
   "metadata": {},
   "outputs": [
    {
     "name": "stdout",
     "output_type": "stream",
     "text": [
      "4\n"
     ]
    }
   ],
   "source": [
    "# find prime number\n",
    "import math\n",
    "\n",
    "inp = int(input())\n",
    "count = 0\n",
    "for j in range(2, inp):\n",
    "    for i in range(2, math.isqrt(j) + 1):\n",
    "        if j % i == 0:\n",
    "            break\n",
    "    else:\n",
    "        count += 1\n",
    "print(count)\n",
    "# 입력값 : 10(2, 3, 5, 7)"
   ]
  },
  {
   "cell_type": "markdown",
   "metadata": {},
   "source": [
    "### LAB3"
   ]
  },
  {
   "cell_type": "code",
   "execution_count": 5,
   "metadata": {},
   "outputs": [
    {
     "name": "stdout",
     "output_type": "stream",
     "text": [
      "3\n",
      "[[10  9 10 10  8 10  6  9  7  8]\n",
      " [10  9 10 10  8 10  6  9  7  8]\n",
      " [10  9 10 10  8 10  6  9  7  8]]\n"
     ]
    }
   ],
   "source": [
    "# convert to Numpy array\n",
    "import numpy as np\n",
    "pp = int(input())\n",
    "scores = np.zeros((pp, 10), dtype=int)\n",
    "for x in range(pp):\n",
    "    scores[x] = input().split()\n",
    "print(pp)\n",
    "print(scores)"
   ]
  },
  {
   "cell_type": "code",
   "execution_count": 6,
   "metadata": {},
   "outputs": [
    {
     "name": "stdout",
     "output_type": "stream",
     "text": [
      "[[ 0  9 10 10  8 10  0  9  7  8]\n",
      " [ 0  9 10 10  8 10  0  9  7  8]\n",
      " [ 0  9 10 10  8 10  0  9  7  8]]\n"
     ]
    }
   ],
   "source": [
    "# cheating -> 0\n",
    "cheating = np.zeros((pp, 10), dtype=int)\n",
    "for i in range(pp):\n",
    "    cheating[i] = list(map(int, input().split()))\n",
    "\n",
    "for i in range(pp):\n",
    "    for j in range(10):\n",
    "        if cheating[i][j] == 1:\n",
    "            scores[i][j] = 0\n",
    "print(scores)"
   ]
  },
  {
   "cell_type": "code",
   "execution_count": 7,
   "metadata": {},
   "outputs": [
    {
     "name": "stdout",
     "output_type": "stream",
     "text": [
      "[78.88888889 78.88888889 78.88888889]\n"
     ]
    }
   ],
   "source": [
    "# calculate the average score\n",
    "S = []\n",
    "l = []\n",
    "for s in scores:\n",
    "    if min(s) > 0:\n",
    "        S.append(sum(s)-min(s))\n",
    "        l.append(90) # 10개의 점수 중 최소값을 제외한 9개의 점수의 합\n",
    "    else:\n",
    "        S.append(sum(s))\n",
    "        l.append(90)\n",
    "n = np.array(S)/np.array(l)*100\n",
    "print(n)"
   ]
  },
  {
   "cell_type": "markdown",
   "metadata": {},
   "source": [
    "### LAB4"
   ]
  },
  {
   "cell_type": "code",
   "execution_count": 8,
   "metadata": {},
   "outputs": [],
   "source": [
    "# write to file\n",
    "a = open('output.txt', 'w')\n",
    "a.write('''Coming of age in the 18th and 19th centuries, the personal\n",
    "diary became a centerpiece in the construction of a modern\n",
    "subjectivity, at the heart of which is the application of reason\n",
    "and critique to the understanding of world and self, which\n",
    "allowed the creation of a new kind of knowledge. Diaries were\n",
    "central media through which enlightened and free subjects\n",
    "could be constructed. They provided a space where one could\n",
    "write daily about her whereabouts, feelings, and thoughts.\n",
    "Over time and with rereading, disparate entries, events, and\n",
    "happenstances could be rendered into insights and narratives\n",
    "about the self, and allowed for the formation of subjectivity. It\n",
    "is in that context that the idea of “the self [as] both made and\n",
    "explored with words” emerges. Diaries were personal and\n",
    "private; one would write for oneself, or, in Habermas’s\n",
    "formulation, one would make oneself public to oneself. By\n",
    "making the self public in a private sphere, the self also became\n",
    "an object for self-inspection and self-critique.''')\n",
    "a.close()\n",
    "# exec(input())"
   ]
  },
  {
   "cell_type": "code",
   "execution_count": 9,
   "metadata": {},
   "outputs": [
    {
     "name": "stdout",
     "output_type": "stream",
     "text": [
      "239\n"
     ]
    }
   ],
   "source": [
    "# guess the seed\n",
    "import numpy as np\n",
    "\n",
    "lst = list(map(int, input().split()))\n",
    "\n",
    "for n in range(1000):\n",
    "    np.random.seed(n)\n",
    "    if lst == list(np.random.randint(0, 100, 10)):\n",
    "        print(n)\n",
    "        break\n",
    "# 입력값 : 40 61 12 8 37 33 6 62 41 3"
   ]
  },
  {
   "cell_type": "code",
   "execution_count": 13,
   "metadata": {},
   "outputs": [
    {
     "name": "stdout",
     "output_type": "stream",
     "text": [
      "입력된 문자열: 123dsafqrE\n",
      "6 1 3 0 0\n"
     ]
    }
   ],
   "source": [
    "# string analysis using ascii code\n",
    "s = input()\n",
    "print('입력된 문자열:', s)\n",
    "l = s.lower()\n",
    "u = s.upper()\n",
    "n = 0\n",
    "ln, un, b, sp = 0,0,0,0\n",
    "for i in range(len(l)):\n",
    "    if s[i] == ' ':\n",
    "        b += 1\n",
    "    elif s[i] == l[i] and s[i] not in '.,~!@#$%^&*()_+{}|:\"<>?`-=[]\\;1234567890':\n",
    "        ln += 1\n",
    "    elif s[i] == u[i] and s[i] not in '.,~!@#$%^&*()_+{}|:\"<>?`-=[]\\;1234567890':\n",
    "        un += 1\n",
    "    elif s[i] in '1234567890':\n",
    "        n += 1\n",
    "    else:\n",
    "        sp += 1\n",
    "\n",
    "print(ln, un, n, b, sp)"
   ]
  },
  {
   "cell_type": "markdown",
   "metadata": {},
   "source": [
    "### LAB5"
   ]
  },
  {
   "cell_type": "code",
   "execution_count": 14,
   "metadata": {},
   "outputs": [
    {
     "name": "stdout",
     "output_type": "stream",
     "text": [
      "+82-10-3244-9210\n"
     ]
    }
   ],
   "source": [
    "# phone number conversion\n",
    "import re\n",
    "def phone(num):\n",
    "    if re.match(r'^\\d{3}-\\d{3,4}-\\d{4}$', num):\n",
    "        return '+82-' + num[1:3] + '-' + num[4:8] + '-' + num[9:]\n",
    "    if re.match(r'^\\d{10,11}$', num):\n",
    "        return '+82-' + num[1:3] + '-' + num[3:7] + '-' + num[7:]\n",
    "    else :\n",
    "        return num\n",
    "n = input()\n",
    "print(phone(n))"
   ]
  },
  {
   "cell_type": "code",
   "execution_count": 10,
   "metadata": {},
   "outputs": [],
   "source": [
    "# email domain analysis\n",
    "import re\n",
    "import sys\n",
    "def vemail(email):\n",
    "    return re.match(r'^[a-zA-Z0-9.]+@[a-zA-Z0-9.-]+\\.[a-zA-Z]{2,}$', email)\n",
    "\n",
    "def aemail(email, lst):\n",
    "    lst.append(email[email.find('@')+1:])\n",
    "\n",
    "lst = []\n",
    "emails = []\n",
    "while True:\n",
    "    email = sys.stdin.readline().rstrip()\n",
    "    emails.append(email)\n",
    "    if not email:\n",
    "        break\n",
    "\n",
    "\n",
    "for line in emails:\n",
    "    if line:\n",
    "        if vemail(line):\n",
    "            aemail(line, lst)\n",
    "    else:\n",
    "        pass\n",
    "st = set(lst)\n",
    "for i in lst:\n",
    "    if i in st:\n",
    "        print(i,': ', lst.count(i), sep='')\n",
    "        st.remove(i)\n",
    "        '''\n",
    "dgist.ac.kr: 3\n",
    "korea.ac.kr: 1\n",
    "naver.com: 2\n",
    "        '''"
   ]
  },
  {
   "cell_type": "code",
   "execution_count": null,
   "metadata": {},
   "outputs": [],
   "source": [
    "import re\n",
    "import sys\n",
    "def verror(lst):\n",
    "    f = ''\n",
    "    en = ''\n",
    "    for e in lst:\n",
    "        if re.match(r'^(File)', e):  # Modify the regular expression pattern\n",
    "            f = e\n",
    "        elif re.match(r'^(.*?):',e):\n",
    "            en = e    \n",
    "    else:\n",
    "        print('File name:', re.findall(r'\\\"(.*?)\\\"', f)[0])  # Print the matched file name\n",
    "        print('Line number:', re.findall(r'line (\\d+)', f)[0])  # Print the matched line number\n",
    "        print('Error type:', re.findall(r'(.*?):', en)[0])  # Print the matched error type\n",
    "\n",
    "\n",
    "lst = []\n",
    "err = []\n",
    "while True:\n",
    "    e = sys.stdin.readline().strip()\n",
    "    err.append(e)\n",
    "    if not e:\n",
    "        break\n",
    "\n",
    "verror(err)\n",
    "'''\n",
    "Traceback (most recent call last):\n",
    "  File \"example.py\", line 7, in <module>\n",
    "    main()\n",
    "  File \"example.py\", line 5, in main\n",
    "    print(1/0)\n",
    "ZeroDivisionError: division by zero\n",
    "\n",
    "File name: example.py\n",
    "Line number: 5\n",
    "Error type: ZeroDivisionError\n",
    "'''"
   ]
  },
  {
   "cell_type": "markdown",
   "metadata": {},
   "source": [
    "### LAB6"
   ]
  },
  {
   "cell_type": "code",
   "execution_count": 1,
   "metadata": {},
   "outputs": [
    {
     "name": "stdout",
     "output_type": "stream",
     "text": [
      "1              s\n",
      "2              d\n",
      "3    datascience\n",
      "4              s\n",
      "5              a\n",
      "6              f\n",
      "7              2\n",
      "8              1\n",
      "dtype: object\n"
     ]
    }
   ],
   "source": [
    "import pandas as pd\n",
    "s = input()\n",
    "siz = pd.Series((i for i in s), index=range(1, len(s)+1))\n",
    "siz[3] = 'datascience'\n",
    "print(siz)"
   ]
  },
  {
   "cell_type": "code",
   "execution_count": null,
   "metadata": {},
   "outputs": [],
   "source": [
    "import sys\n",
    "import pandas as pd\n",
    "import numpy as np\n",
    "\n",
    "lst = []\n",
    "while True:\n",
    "    ss = sys.stdin.readline().rstrip()\n",
    "    lst.append(ss)\n",
    "    if ss == '':\n",
    "        break\n",
    "for i, v in enumerate(lst):\n",
    "    lst[i] = v.split()\n",
    "del lst[-1] # Remove the last empty list\n",
    "nlst = np.array(lst)\n",
    "nlst.T\n",
    "dic = {'Name':nlst[0],'Age':list(map(int,nlst[1])),'Gender':nlst[2]}\n",
    "df = pd.DataFrame(dic, columns=['Age', 'Gender'])\n",
    "df.index = dic['Name']\n",
    "df.index.name = 'Name'\n",
    "print(df[df['Age']>=30])\n",
    "'''\n",
    "John Anna Peter Linda\n",
    "28 34 29 32\n",
    "Male Female Male Female\n",
    "\n",
    "       Age  Gender\n",
    "Name              \n",
    "Anna    34  Female\n",
    "Linda   32  Female\n",
    "'''"
   ]
  },
  {
   "cell_type": "code",
   "execution_count": null,
   "metadata": {},
   "outputs": [],
   "source": [
    "df = pd.DataFrame(lst).T\n",
    "df.columns = ['Name','Age', 'Gender']\n",
    "df['Age'] = df['Age'].apply(int)\n",
    "df.index = df.pop('Name')\n",
    "df.index.name = 'Name'\n",
    "print(df.sort_values('Age', ascending=False))\n",
    "'''\n",
    "       Age  Gender\n",
    "Name              \n",
    "Anna    34  Female\n",
    "Linda   32  Female\n",
    "Peter   29    Male\n",
    "John    28    Male\n",
    "'''"
   ]
  },
  {
   "cell_type": "code",
   "execution_count": null,
   "metadata": {},
   "outputs": [],
   "source": [
    "df = pd.DataFrame(lst).T\n",
    "df.columns = ['Name','Age', 'Gender','Occupation']\n",
    "df['Age'] = df['Age'].apply(int)\n",
    "df.index = df.pop('Name')\n",
    "df.index.name = 'Name'\n",
    "df = df.replace('nodata','Unemployed')\n",
    "print(df.sort_values('Age', ascending=False))\n",
    "'''\n",
    "       Age  Gender  Occupation\n",
    "Name                          \n",
    "Anna    34  Female     Teacher\n",
    "Linda   32  Female      Doctor\n",
    "Peter   29    Male  Unemployed\n",
    "John    28    Male    Engineer\n",
    "'''"
   ]
  }
 ],
 "metadata": {
  "kernelspec": {
   "display_name": "Python py3-TF2.8",
   "language": "python",
   "name": "py3-tf2.0"
  },
  "language_info": {
   "codemirror_mode": {
    "name": "ipython",
    "version": 3
   },
   "file_extension": ".py",
   "mimetype": "text/x-python",
   "name": "python",
   "nbconvert_exporter": "python",
   "pygments_lexer": "ipython3",
   "version": "3.11.5"
  }
 },
 "nbformat": 4,
 "nbformat_minor": 2
}
