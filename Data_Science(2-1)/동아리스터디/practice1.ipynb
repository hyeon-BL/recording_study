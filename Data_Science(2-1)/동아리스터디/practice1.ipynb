{
 "cells": [
  {
   "cell_type": "markdown",
   "metadata": {},
   "source": [
    "### Example 1. 리스트에서 배열 만들기\n",
    "원소를 0부터 15까지 순서대로 갖는 1차원 배열을 만드세요."
   ]
  },
  {
   "cell_type": "code",
   "execution_count": 1,
   "metadata": {},
   "outputs": [],
   "source": [
    "import numpy as np\n",
    "import pandas as pd"
   ]
  },
  {
   "cell_type": "code",
   "execution_count": 2,
   "metadata": {},
   "outputs": [],
   "source": [
    "####### PLEASE IMPLEMENT HERE ##########\n",
    "arr = "
   ]
  },
  {
   "cell_type": "code",
   "execution_count": 3,
   "metadata": {},
   "outputs": [
    {
     "name": "stdout",
     "output_type": "stream",
     "text": [
      "[ 0  1  2  3  4  5  6  7  8  9 10 11 12 13 14 15]\n"
     ]
    }
   ],
   "source": [
    "print(arr)"
   ]
  },
  {
   "cell_type": "markdown",
   "metadata": {},
   "source": [
    "### Example 2. 배열 형태 바꾸기\n",
    "위에서 만든 arr 배열을 4x4 배열로 바꿔보세요."
   ]
  },
  {
   "cell_type": "code",
   "execution_count": 4,
   "metadata": {},
   "outputs": [],
   "source": [
    "####### PLEASE IMPLEMENT HERE ##########\n",
    "arr2 = "
   ]
  },
  {
   "cell_type": "code",
   "execution_count": 5,
   "metadata": {},
   "outputs": [
    {
     "name": "stdout",
     "output_type": "stream",
     "text": [
      "[[ 0  1  2  3]\n",
      " [ 4  5  6  7]\n",
      " [ 8  9 10 11]\n",
      " [12 13 14 15]]\n"
     ]
    }
   ],
   "source": [
    "print(arr2)"
   ]
  },
  {
   "cell_type": "markdown",
   "metadata": {},
   "source": [
    "### Example 3. 짝수 번째 원소 값 바꾸기\n",
    "위에서 바꾼 arr 배열의 짝수 번째 원소(인덱스: 홀수)들을 -1로 바꿔보세요.\n",
    "주의: 수동으로 인덱스별로 일일히 바꾸지 않는 방향으로 진행해보세요."
   ]
  },
  {
   "cell_type": "code",
   "execution_count": 6,
   "metadata": {},
   "outputs": [],
   "source": [
    "####### PLEASE IMPLEMENT HERE ##########\n",
    "arr3 =\n"
   ]
  },
  {
   "cell_type": "code",
   "execution_count": 7,
   "metadata": {},
   "outputs": [
    {
     "name": "stdout",
     "output_type": "stream",
     "text": [
      "[ 0 -1  4 -1  8 -1 12 -1]\n"
     ]
    }
   ],
   "source": [
    "print(arr3)"
   ]
  },
  {
   "cell_type": "markdown",
   "metadata": {},
   "source": [
    "### Example 4. 데이터프레임 다루기\n",
    "Pandas를 활용하여 서울 지하철 1호선의 새벽 4~6시 이용정보 데이터프레임을 다뤄봅시다."
   ]
  },
  {
   "cell_type": "code",
   "execution_count": 8,
   "metadata": {},
   "outputs": [
    {
     "data": {
      "text/html": [
       "<div>\n",
       "<style scoped>\n",
       "    .dataframe tbody tr th:only-of-type {\n",
       "        vertical-align: middle;\n",
       "    }\n",
       "\n",
       "    .dataframe tbody tr th {\n",
       "        vertical-align: top;\n",
       "    }\n",
       "\n",
       "    .dataframe thead th {\n",
       "        text-align: right;\n",
       "    }\n",
       "</style>\n",
       "<table border=\"1\" class=\"dataframe\">\n",
       "  <thead>\n",
       "    <tr style=\"text-align: right;\">\n",
       "      <th></th>\n",
       "      <th>지하철역</th>\n",
       "      <th>04-05시 승차인원</th>\n",
       "      <th>04-05시 하차인원</th>\n",
       "      <th>05-06시 승차인원</th>\n",
       "      <th>05-06시 하차인원</th>\n",
       "    </tr>\n",
       "  </thead>\n",
       "  <tbody>\n",
       "    <tr>\n",
       "      <th>0</th>\n",
       "      <td>동대문</td>\n",
       "      <td>901</td>\n",
       "      <td>23</td>\n",
       "      <td>11029</td>\n",
       "      <td>1950</td>\n",
       "    </tr>\n",
       "    <tr>\n",
       "      <th>1</th>\n",
       "      <td>동묘앞</td>\n",
       "      <td>214</td>\n",
       "      <td>1</td>\n",
       "      <td>2921</td>\n",
       "      <td>933</td>\n",
       "    </tr>\n",
       "    <tr>\n",
       "      <th>2</th>\n",
       "      <td>서울역</td>\n",
       "      <td>665</td>\n",
       "      <td>20</td>\n",
       "      <td>7969</td>\n",
       "      <td>7954</td>\n",
       "    </tr>\n",
       "    <tr>\n",
       "      <th>3</th>\n",
       "      <td>시청</td>\n",
       "      <td>65</td>\n",
       "      <td>0</td>\n",
       "      <td>2188</td>\n",
       "      <td>4984</td>\n",
       "    </tr>\n",
       "    <tr>\n",
       "      <th>4</th>\n",
       "      <td>신설동</td>\n",
       "      <td>373</td>\n",
       "      <td>37</td>\n",
       "      <td>9007</td>\n",
       "      <td>1995</td>\n",
       "    </tr>\n",
       "    <tr>\n",
       "      <th>5</th>\n",
       "      <td>제기동</td>\n",
       "      <td>471</td>\n",
       "      <td>14</td>\n",
       "      <td>5041</td>\n",
       "      <td>2103</td>\n",
       "    </tr>\n",
       "  </tbody>\n",
       "</table>\n",
       "</div>"
      ],
      "text/plain": [
       "  지하철역  04-05시 승차인원  04-05시 하차인원  05-06시 승차인원  05-06시 하차인원\n",
       "0  동대문          901           23        11029         1950\n",
       "1  동묘앞          214            1         2921          933\n",
       "2  서울역          665           20         7969         7954\n",
       "3   시청           65            0         2188         4984\n",
       "4  신설동          373           37         9007         1995\n",
       "5  제기동          471           14         5041         2103"
      ]
     },
     "execution_count": 8,
     "metadata": {},
     "output_type": "execute_result"
    }
   ],
   "source": [
    "mydata = [['동대문', 901, 23, 11029, 1950],\n",
    "          ['동묘앞', 214, 1, 2921, 933], \n",
    "          ['서울역', 665, 20, 7969, 7954],\n",
    "          ['시청', 65, 0, 2188, 4984],\n",
    "          ['신설동', 373, 37, 9007, 1995],\n",
    "          ['제기동', 471, 14, 5041, 2103]]\n",
    "df = pd.DataFrame(mydata, columns = ['지하철역', '04-05시 승차인원', '04-05시 하차인원','05-06시 승차인원','05-06시 하차인원'])\n",
    "df"
   ]
  },
  {
   "cell_type": "markdown",
   "metadata": {},
   "source": [
    "#### Example 4-1. 승차인원, 하차인원 구하기\n",
    "우선, 새벽 4시부터 6시까지의 승차인원 열 1개와, 하차인원 열 1개를 만들어서 추가해주세요."
   ]
  },
  {
   "cell_type": "code",
   "execution_count": 9,
   "metadata": {},
   "outputs": [],
   "source": [
    "####### PLEASE IMPLEMENT HERE ##########\n",
    "df['승차인원'] = \n",
    "df['하차인원'] = "
   ]
  },
  {
   "cell_type": "code",
   "execution_count": 10,
   "metadata": {},
   "outputs": [
    {
     "data": {
      "text/html": [
       "<div>\n",
       "<style scoped>\n",
       "    .dataframe tbody tr th:only-of-type {\n",
       "        vertical-align: middle;\n",
       "    }\n",
       "\n",
       "    .dataframe tbody tr th {\n",
       "        vertical-align: top;\n",
       "    }\n",
       "\n",
       "    .dataframe thead th {\n",
       "        text-align: right;\n",
       "    }\n",
       "</style>\n",
       "<table border=\"1\" class=\"dataframe\">\n",
       "  <thead>\n",
       "    <tr style=\"text-align: right;\">\n",
       "      <th></th>\n",
       "      <th>지하철역</th>\n",
       "      <th>04-05시 승차인원</th>\n",
       "      <th>04-05시 하차인원</th>\n",
       "      <th>05-06시 승차인원</th>\n",
       "      <th>05-06시 하차인원</th>\n",
       "      <th>승차인원</th>\n",
       "      <th>하차인원</th>\n",
       "    </tr>\n",
       "  </thead>\n",
       "  <tbody>\n",
       "    <tr>\n",
       "      <th>0</th>\n",
       "      <td>동대문</td>\n",
       "      <td>901</td>\n",
       "      <td>23</td>\n",
       "      <td>11029</td>\n",
       "      <td>1950</td>\n",
       "      <td>11930</td>\n",
       "      <td>1973</td>\n",
       "    </tr>\n",
       "    <tr>\n",
       "      <th>1</th>\n",
       "      <td>동묘앞</td>\n",
       "      <td>214</td>\n",
       "      <td>1</td>\n",
       "      <td>2921</td>\n",
       "      <td>933</td>\n",
       "      <td>3135</td>\n",
       "      <td>934</td>\n",
       "    </tr>\n",
       "    <tr>\n",
       "      <th>2</th>\n",
       "      <td>서울역</td>\n",
       "      <td>665</td>\n",
       "      <td>20</td>\n",
       "      <td>7969</td>\n",
       "      <td>7954</td>\n",
       "      <td>8634</td>\n",
       "      <td>7974</td>\n",
       "    </tr>\n",
       "    <tr>\n",
       "      <th>3</th>\n",
       "      <td>시청</td>\n",
       "      <td>65</td>\n",
       "      <td>0</td>\n",
       "      <td>2188</td>\n",
       "      <td>4984</td>\n",
       "      <td>2253</td>\n",
       "      <td>4984</td>\n",
       "    </tr>\n",
       "    <tr>\n",
       "      <th>4</th>\n",
       "      <td>신설동</td>\n",
       "      <td>373</td>\n",
       "      <td>37</td>\n",
       "      <td>9007</td>\n",
       "      <td>1995</td>\n",
       "      <td>9380</td>\n",
       "      <td>2032</td>\n",
       "    </tr>\n",
       "    <tr>\n",
       "      <th>5</th>\n",
       "      <td>제기동</td>\n",
       "      <td>471</td>\n",
       "      <td>14</td>\n",
       "      <td>5041</td>\n",
       "      <td>2103</td>\n",
       "      <td>5512</td>\n",
       "      <td>2117</td>\n",
       "    </tr>\n",
       "  </tbody>\n",
       "</table>\n",
       "</div>"
      ],
      "text/plain": [
       "  지하철역  04-05시 승차인원  04-05시 하차인원  05-06시 승차인원  05-06시 하차인원   승차인원  하차인원\n",
       "0  동대문          901           23        11029         1950  11930  1973\n",
       "1  동묘앞          214            1         2921          933   3135   934\n",
       "2  서울역          665           20         7969         7954   8634  7974\n",
       "3   시청           65            0         2188         4984   2253  4984\n",
       "4  신설동          373           37         9007         1995   9380  2032\n",
       "5  제기동          471           14         5041         2103   5512  2117"
      ]
     },
     "execution_count": 10,
     "metadata": {},
     "output_type": "execute_result"
    }
   ],
   "source": [
    "df"
   ]
  },
  {
   "cell_type": "markdown",
   "metadata": {},
   "source": [
    "승차인원이 5000명이 넘는 행들만 골라내주세요."
   ]
  },
  {
   "cell_type": "code",
   "execution_count": 12,
   "metadata": {},
   "outputs": [],
   "source": [
    "####### PLEASE IMPLEMENT HERE ##########\n",
    "result ="
   ]
  },
  {
   "cell_type": "code",
   "execution_count": 13,
   "metadata": {},
   "outputs": [
    {
     "data": {
      "text/html": [
       "<div>\n",
       "<style scoped>\n",
       "    .dataframe tbody tr th:only-of-type {\n",
       "        vertical-align: middle;\n",
       "    }\n",
       "\n",
       "    .dataframe tbody tr th {\n",
       "        vertical-align: top;\n",
       "    }\n",
       "\n",
       "    .dataframe thead th {\n",
       "        text-align: right;\n",
       "    }\n",
       "</style>\n",
       "<table border=\"1\" class=\"dataframe\">\n",
       "  <thead>\n",
       "    <tr style=\"text-align: right;\">\n",
       "      <th></th>\n",
       "      <th>지하철역</th>\n",
       "      <th>04-05시 승차인원</th>\n",
       "      <th>04-05시 하차인원</th>\n",
       "      <th>05-06시 승차인원</th>\n",
       "      <th>05-06시 하차인원</th>\n",
       "      <th>승차인원</th>\n",
       "      <th>하차인원</th>\n",
       "    </tr>\n",
       "  </thead>\n",
       "  <tbody>\n",
       "    <tr>\n",
       "      <th>0</th>\n",
       "      <td>동대문</td>\n",
       "      <td>901</td>\n",
       "      <td>23</td>\n",
       "      <td>11029</td>\n",
       "      <td>1950</td>\n",
       "      <td>11930</td>\n",
       "      <td>1973</td>\n",
       "    </tr>\n",
       "    <tr>\n",
       "      <th>2</th>\n",
       "      <td>서울역</td>\n",
       "      <td>665</td>\n",
       "      <td>20</td>\n",
       "      <td>7969</td>\n",
       "      <td>7954</td>\n",
       "      <td>8634</td>\n",
       "      <td>7974</td>\n",
       "    </tr>\n",
       "    <tr>\n",
       "      <th>4</th>\n",
       "      <td>신설동</td>\n",
       "      <td>373</td>\n",
       "      <td>37</td>\n",
       "      <td>9007</td>\n",
       "      <td>1995</td>\n",
       "      <td>9380</td>\n",
       "      <td>2032</td>\n",
       "    </tr>\n",
       "    <tr>\n",
       "      <th>5</th>\n",
       "      <td>제기동</td>\n",
       "      <td>471</td>\n",
       "      <td>14</td>\n",
       "      <td>5041</td>\n",
       "      <td>2103</td>\n",
       "      <td>5512</td>\n",
       "      <td>2117</td>\n",
       "    </tr>\n",
       "  </tbody>\n",
       "</table>\n",
       "</div>"
      ],
      "text/plain": [
       "  지하철역  04-05시 승차인원  04-05시 하차인원  05-06시 승차인원  05-06시 하차인원   승차인원  하차인원\n",
       "0  동대문          901           23        11029         1950  11930  1973\n",
       "2  서울역          665           20         7969         7954   8634  7974\n",
       "4  신설동          373           37         9007         1995   9380  2032\n",
       "5  제기동          471           14         5041         2103   5512  2117"
      ]
     },
     "execution_count": 13,
     "metadata": {},
     "output_type": "execute_result"
    }
   ],
   "source": [
    "result"
   ]
  },
  {
   "cell_type": "code",
   "execution_count": null,
   "metadata": {},
   "outputs": [],
   "source": []
  }
 ],
 "metadata": {
  "kernelspec": {
   "display_name": "Python 3",
   "language": "python",
   "name": "python3"
  },
  "language_info": {
   "codemirror_mode": {
    "name": "ipython",
    "version": 3
   },
   "file_extension": ".py",
   "mimetype": "text/x-python",
   "name": "python",
   "nbconvert_exporter": "python",
   "pygments_lexer": "ipython3",
   "version": "3.8.5"
  }
 },
 "nbformat": 4,
 "nbformat_minor": 4
}
